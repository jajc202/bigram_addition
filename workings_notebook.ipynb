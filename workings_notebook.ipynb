{
 "cells": [
  {
   "cell_type": "code",
   "execution_count": 1,
   "metadata": {},
   "outputs": [],
   "source": [
    "import torch"
   ]
  },
  {
   "cell_type": "markdown",
   "metadata": {},
   "source": [
    "### **Build the data**"
   ]
  },
  {
   "cell_type": "code",
   "execution_count": 2,
   "metadata": {},
   "outputs": [
    {
     "data": {
      "text/plain": [
       "tensor([[ 845, -861],\n",
       "        [-876,  368],\n",
       "        [ 263, -687],\n",
       "        ...,\n",
       "        [-903,  -74],\n",
       "        [-510,  652],\n",
       "        [ 588,  583]])"
      ]
     },
     "execution_count": 2,
     "metadata": {},
     "output_type": "execute_result"
    }
   ],
   "source": [
    "torch.manual_seed(1)\n",
    "\n",
    "# Define max and min int\n",
    "max_int = 1000\n",
    "min_int = -1000\n",
    "\n",
    "# Define number of examples\n",
    "num_examples = 100000\n",
    "nums = torch.randint(min_int, max_int, (num_examples,2))\n",
    "nums"
   ]
  },
  {
   "cell_type": "code",
   "execution_count": 3,
   "metadata": {},
   "outputs": [
    {
     "data": {
      "text/plain": [
       "tensor([[ 845, -861,  -16],\n",
       "        [-876,  368, -508],\n",
       "        [ 263, -687, -424],\n",
       "        ...,\n",
       "        [-903,  -74, -977],\n",
       "        [-510,  652,  142],\n",
       "        [ 588,  583, 1171]])"
      ]
     },
     "execution_count": 3,
     "metadata": {},
     "output_type": "execute_result"
    }
   ],
   "source": [
    "# Add targets\n",
    "# Compute the sum of each row (along dimension 1)\n",
    "sums = nums.sum(dim=1, keepdim=True)\n",
    "\n",
    "# Concatenate the sums as a new column\n",
    "data = torch.cat((nums, sums), dim=1)\n",
    "data"
   ]
  },
  {
   "cell_type": "code",
   "execution_count": 4,
   "metadata": {},
   "outputs": [],
   "source": [
    "#--------------------------------------------------------------\n",
    "# Build the Splits\n",
    "#--------------------------------------------------------------\n",
    "# Set split proportions\n",
    "train_pct = 0.9\n",
    "val_pct = 0.1\n",
    "test_pct = 0.0      # We wont define a test set for now\n",
    "\n",
    "# Calculate split indexes\n",
    "n1 = int(train_pct * data.size()[0])\n",
    "n2 = int((train_pct + val_pct) * data.size()[0])\n",
    "\n",
    "# Create splits\n",
    "train_data = data[:n1]\n",
    "val_data = data[n1:n2]\n",
    "test_data = data[n2:]"
   ]
  },
  {
   "cell_type": "code",
   "execution_count": 5,
   "metadata": {},
   "outputs": [],
   "source": [
    "batch_size = 4"
   ]
  },
  {
   "cell_type": "code",
   "execution_count": 6,
   "metadata": {},
   "outputs": [],
   "source": [
    "def get_batch(split):\n",
    "    # Define data split to pick from\n",
    "    if split == 'train':\n",
    "        data = train_data\n",
    "    elif split == 'val':\n",
    "        data = val_data\n",
    "    elif split == 'test':\n",
    "        data = test_data\n",
    "    else:\n",
    "        raise ValueError(f\"Invalid split value: '{split}'. Expected one of: 'train', 'val', 'test'.\")\n",
    "    \n",
    "    # Generate #batch_size random indexes\n",
    "    ix = torch.randint(data.size()[0], (batch_size,))\n",
    "     \n",
    "    # Gather inputs (x) and targets (y)\n",
    "    x = torch.stack([data[i, :2] for i in ix])\n",
    "    y = torch.stack([data[i, -1] for i in ix])\n",
    "    return x, y\n"
   ]
  },
  {
   "cell_type": "code",
   "execution_count": 7,
   "metadata": {},
   "outputs": [
    {
     "name": "stdout",
     "output_type": "stream",
     "text": [
      "tensor([[-664,  342],\n",
      "        [ 157, -333],\n",
      "        [ 766,  452],\n",
      "        [ 753,  303]])\n",
      "tensor([-322, -176, 1218, 1056])\n"
     ]
    }
   ],
   "source": [
    "x, y = get_batch('train')\n",
    "print(x)\n",
    "print(y)"
   ]
  },
  {
   "cell_type": "code",
   "execution_count": 40,
   "metadata": {},
   "outputs": [
    {
     "data": {
      "text/plain": [
       "115"
      ]
     },
     "execution_count": 40,
     "metadata": {},
     "output_type": "execute_result"
    }
   ],
   "source": [
    "-694+809"
   ]
  }
 ],
 "metadata": {
  "kernelspec": {
   "display_name": "Python 3",
   "language": "python",
   "name": "python3"
  },
  "language_info": {
   "codemirror_mode": {
    "name": "ipython",
    "version": 3
   },
   "file_extension": ".py",
   "mimetype": "text/x-python",
   "name": "python",
   "nbconvert_exporter": "python",
   "pygments_lexer": "ipython3",
   "version": "3.11.4"
  }
 },
 "nbformat": 4,
 "nbformat_minor": 2
}
